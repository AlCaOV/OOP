{
 "cells": [
  {
   "cell_type": "code",
   "execution_count": 2,
   "id": "d10e8195",
   "metadata": {},
   "outputs": [
    {
     "name": "stdout",
     "output_type": "stream",
     "text": [
      "Yurii start programming at 2025-10-10 22:26:52.427298. Lviv is the best city!\n"
     ]
    }
   ],
   "source": [
    "from datetime import datetime\n",
    "name = \"Yurii\"\n",
    "location = \"Lviv\"\n",
    "\n",
    "print(f\"{name} start programming at {datetime.now()}. {location} is the best city!\")"
   ]
  },
  {
   "cell_type": "markdown",
   "id": "beb59054",
   "metadata": {},
   "source": [
    "### Звичайний та простий вивід тексту на пайтоні"
   ]
  },
  {
   "cell_type": "markdown",
   "id": "2859a824",
   "metadata": {},
   "source": [
    "# Програма ChatGPT"
   ]
  },
  {
   "cell_type": "code",
   "execution_count": 3,
   "id": "1fac0bdb",
   "metadata": {},
   "outputs": [
    {
     "name": "stdout",
     "output_type": "stream",
     "text": [
      "Радий це чути! 🥳 Гарного тобі дня!\n"
     ]
    }
   ],
   "source": [
    "# Проста програма: чат-бот настрою\n",
    "\n",
    "# Користувач вводить свій настрій\n",
    "mood = input(\"Привіт! Як твій настрій сьогодні? 🙂 \")\n",
    "\n",
    "# Проста логіка визначення відповіді\n",
    "if \"добре\" in mood.lower() or \"чудово\" in mood.lower():\n",
    "    print(\"Радий це чути! 🥳 Гарного тобі дня!\")\n",
    "elif \"погано\" in mood.lower() or \"сумно\" in mood.lower():\n",
    "    print(\"Не засмучуйся 💛 Все обов’язково налагодиться!\")\n",
    "else:\n",
    "    print(\"Дякую, що поділився 🙂 Надіюсь, твій день буде чудовим!\")\n"
   ]
  },
  {
   "cell_type": "markdown",
   "id": "816f2bd5",
   "metadata": {},
   "source": [
    "### 🧠 Пояснення:\n",
    "\n",
    "1. input() — запитує текст у користувача.\n",
    "\n",
    "1. Змінна mood зберігає введений рядок.\n",
    "\n",
    "1. .lower() — переводить текст у нижній регістр, щоб не було різниці між “Добре” і “добре”.\n",
    "\n",
    "1. if, elif, else — перевіряють, які слова містяться в тексті.\n",
    "\n",
    "1. print() — виводить відповідь на екран."
   ]
  }
 ],
 "metadata": {
  "kernelspec": {
   "display_name": "Python 3",
   "language": "python",
   "name": "python3"
  },
  "language_info": {
   "codemirror_mode": {
    "name": "ipython",
    "version": 3
   },
   "file_extension": ".py",
   "mimetype": "text/x-python",
   "name": "python",
   "nbconvert_exporter": "python",
   "pygments_lexer": "ipython3",
   "version": "3.13.7"
  }
 },
 "nbformat": 4,
 "nbformat_minor": 5
}
