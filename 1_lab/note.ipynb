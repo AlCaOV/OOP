{
 "cells": [
  {
   "cell_type": "markdown",
   "id": "0e8a0477",
   "metadata": {},
   "source": [
    "## Пишемо першу програму "
   ]
  },
  {
   "cell_type": "code",
   "execution_count": 3,
   "id": "5d335f90",
   "metadata": {},
   "outputs": [
    {
     "name": "stdout",
     "output_type": "stream",
     "text": [
      "Hellow world\n"
     ]
    }
   ],
   "source": [
    "n = \"Hellow world\"\n",
    "print(n)"
   ]
  },
  {
   "cell_type": "code",
   "execution_count": 4,
   "id": "d1b63c22",
   "metadata": {},
   "outputs": [
    {
     "name": "stdout",
     "output_type": "stream",
     "text": [
      "Hellow world Марк лох!\n"
     ]
    }
   ],
   "source": [
    "print(n,\"Марк лох!\")"
   ]
  }
 ],
 "metadata": {
  "kernelspec": {
   "display_name": "Python 3",
   "language": "python",
   "name": "python3"
  },
  "language_info": {
   "codemirror_mode": {
    "name": "ipython",
    "version": 3
   },
   "file_extension": ".py",
   "mimetype": "text/x-python",
   "name": "python",
   "nbconvert_exporter": "python",
   "pygments_lexer": "ipython3",
   "version": "3.13.7"
  }
 },
 "nbformat": 4,
 "nbformat_minor": 5
}
