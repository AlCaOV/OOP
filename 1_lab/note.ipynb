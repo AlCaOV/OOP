{
 "cells": [
  {
   "cell_type": "markdown",
   "id": "0e8a0477",
   "metadata": {},
   "source": [
    "## Пишемо першу програму "
   ]
  },
  {
   "cell_type": "code",
   "execution_count": 5,
   "id": "b4786020",
   "metadata": {},
   "outputs": [
    {
     "name": "stdout",
     "output_type": "stream",
     "text": [
      "е\n",
      "имаволс амокьлікед з акчіртс агвод еЦ\n"
     ]
    }
   ],
   "source": [
    "st = \"Це довга стрічка з декількома словами\"\n",
    "print(st[st.count(\"Ц\")])\n",
    "print(st[::-1])\n"
   ]
  },
  {
   "cell_type": "markdown",
   "id": "a28e84db",
   "metadata": {},
   "source": [
    "конкатинація це операція зчеплення стрічок"
   ]
  },
  {
   "cell_type": "code",
   "execution_count": 77,
   "id": "6dc58bb2",
   "metadata": {},
   "outputs": [
    {
     "name": "stdout",
     "output_type": "stream",
     "text": [
      "Hello World\n",
      "Hello World Hello World\n",
      "Word\n",
      "  World\n",
      "  World Hello\n",
      "  World Hello Word\n",
      "  World Hello Word Word\n",
      "  World Hello Word Word Word\n"
     ]
    }
   ],
   "source": [
    "s1 = \"Hello\"\n",
    "s2 = \"World\"\n",
    "s3 = s1 + \" \" + s2\n",
    "from random import choice\n",
    "print(s3)\n",
    "print(\" \".join([s1, s2, s3]))\n",
    "print(choice([s1, s2, \"Word\", ]))\n",
    "for i in range(5):\n",
    "    l = choice([s1, s2, \"Word\"])\n",
    "    k = k+ \" \" +l\n",
    "    print(k)\n",
    "k = \" \""
   ]
  },
  {
   "cell_type": "code",
   "execution_count": 3,
   "id": "5d335f90",
   "metadata": {},
   "outputs": [
    {
     "name": "stdout",
     "output_type": "stream",
     "text": [
      "Hellow world\n"
     ]
    }
   ],
   "source": [
    "n = \"Hellow world\"\n",
    "print(n)"
   ]
  },
  {
   "cell_type": "code",
   "execution_count": 4,
   "id": "d1b63c22",
   "metadata": {},
   "outputs": [
    {
     "name": "stdout",
     "output_type": "stream",
     "text": [
      "Hellow world Марк лох!\n"
     ]
    }
   ],
   "source": [
    "print(n,\"Марк лох!\")"
   ]
  },
  {
   "cell_type": "markdown",
   "id": "647badbd",
   "metadata": {},
   "source": [
    "## Колекції\n"
   ]
  },
  {
   "cell_type": "code",
   "execution_count": null,
   "id": "d2c11657",
   "metadata": {},
   "outputs": [],
   "source": []
  }
 ],
 "metadata": {
  "kernelspec": {
   "display_name": "Python 3",
   "language": "python",
   "name": "python3"
  },
  "language_info": {
   "codemirror_mode": {
    "name": "ipython",
    "version": 3
   },
   "file_extension": ".py",
   "mimetype": "text/x-python",
   "name": "python",
   "nbconvert_exporter": "python",
   "pygments_lexer": "ipython3",
   "version": "3.13.7"
  }
 },
 "nbformat": 4,
 "nbformat_minor": 5
}
